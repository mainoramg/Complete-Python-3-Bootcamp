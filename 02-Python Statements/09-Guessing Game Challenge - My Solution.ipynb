{
 "cells": [
  {
   "cell_type": "code",
   "execution_count": null,
   "id": "initial_id",
   "metadata": {
    "collapsed": true
   },
   "outputs": [],
   "source": [
    "from random import randint\n",
    "tries = 0\n",
    "end = False\n",
    "while not end:\n",
    "    random_number = randint(1, 100)\n",
    "    print('The random number is: {}'.format(random_number))\n",
    "    guess = int(input(\"Guess a number between 1 and 100: \"))\n",
    "    tries += 1\n",
    "    if guess < 1 and guess > 100:\n",
    "        print('OUT OF BOUNDS')\n",
    "    elif guess == random_number:\n",
    "        end = True\n",
    "        print('You guessed my number in {} tries!'.format(tries))\n",
    "    elif guess <= random_number + 10 and guess >= random_number - 10:\n",
    "        print('')\n"
   ]
  }
 ],
 "metadata": {
  "kernelspec": {
   "display_name": "Python 3",
   "language": "python",
   "name": "python3"
  },
  "language_info": {
   "codemirror_mode": {
    "name": "ipython",
    "version": 2
   },
   "file_extension": ".py",
   "mimetype": "text/x-python",
   "name": "python",
   "nbconvert_exporter": "python",
   "pygments_lexer": "ipython2",
   "version": "2.7.6"
  }
 },
 "nbformat": 4,
 "nbformat_minor": 5
}
