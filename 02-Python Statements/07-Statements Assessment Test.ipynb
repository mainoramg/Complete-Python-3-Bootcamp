{
 "cells": [
  {
   "cell_type": "markdown",
   "metadata": {},
   "source": [
    "___\n",
    "\n",
    "<a href='https://www.udemy.com/user/joseportilla/'><img src='../Pierian_Data_Logo.png'/></a>\n",
    "___\n",
    "<center><em>Content Copyright by Pierian Data</em></center>"
   ]
  },
  {
   "cell_type": "markdown",
   "metadata": {
    "collapsed": true
   },
   "source": [
    "# Statements Assessment Test\n",
    "Let's test your knowledge!"
   ]
  },
  {
   "cell_type": "markdown",
   "metadata": {},
   "source": [
    "_____\n",
    "**Use <code>for</code>, .split(), and <code>if</code> to create a Statement that will print out words that start with 's':**"
   ]
  },
  {
   "cell_type": "code",
   "metadata": {
    "collapsed": true,
    "ExecuteTime": {
     "end_time": "2025-04-24T02:48:53.083608Z",
     "start_time": "2025-04-24T02:48:53.080558Z"
    }
   },
   "source": [
    "st = 'Print only the words that start with s in this sentence'"
   ],
   "outputs": [],
   "execution_count": 3
  },
  {
   "cell_type": "code",
   "metadata": {
    "collapsed": true,
    "ExecuteTime": {
     "end_time": "2025-04-24T02:48:55.407289Z",
     "start_time": "2025-04-24T02:48:55.403641Z"
    }
   },
   "source": [
    "#Code here\n",
    "for s in st.split(' '):\n",
    "    if s[0].lower() == 's':\n",
    "        print(s)"
   ],
   "outputs": [
    {
     "name": "stdout",
     "output_type": "stream",
     "text": [
      "start\n",
      "s\n",
      "sentence\n"
     ]
    }
   ],
   "execution_count": 4
  },
  {
   "cell_type": "markdown",
   "metadata": {},
   "source": [
    "______\n",
    "**Use range() to print all the even numbers from 0 to 10.**"
   ]
  },
  {
   "cell_type": "code",
   "metadata": {
    "collapsed": true,
    "ExecuteTime": {
     "end_time": "2025-04-24T03:10:05.368686Z",
     "start_time": "2025-04-24T03:10:05.363399Z"
    }
   },
   "source": [
    "#Code Here\n",
    "list(range(0,11,2))"
   ],
   "outputs": [
    {
     "data": {
      "text/plain": [
       "[0, 2, 4, 6, 8, 10]"
      ]
     },
     "execution_count": 20,
     "metadata": {},
     "output_type": "execute_result"
    }
   ],
   "execution_count": 20
  },
  {
   "cell_type": "markdown",
   "metadata": {},
   "source": [
    "___\n",
    "**Use a List Comprehension to create a list of all numbers between 1 and 50 that are divisible by 3.**"
   ]
  },
  {
   "cell_type": "code",
   "metadata": {
    "collapsed": true,
    "ExecuteTime": {
     "end_time": "2025-04-24T02:53:24.949162Z",
     "start_time": "2025-04-24T02:53:24.942314Z"
    }
   },
   "source": [
    "#Code in this cell\n",
    "[x for x in range(1,51) if x % 3 == 0]"
   ],
   "outputs": [
    {
     "data": {
      "text/plain": [
       "[3, 6, 9, 12, 15, 18, 21, 24, 27, 30, 33, 36, 39, 42, 45, 48]"
      ]
     },
     "execution_count": 8,
     "metadata": {},
     "output_type": "execute_result"
    }
   ],
   "execution_count": 8
  },
  {
   "cell_type": "markdown",
   "metadata": {},
   "source": [
    "_____\n",
    "**Go through the string below and if the length of a word is even print \"even!\"**"
   ]
  },
  {
   "cell_type": "code",
   "metadata": {
    "collapsed": true,
    "ExecuteTime": {
     "end_time": "2025-04-24T02:56:06.710846Z",
     "start_time": "2025-04-24T02:56:06.707210Z"
    }
   },
   "source": [
    "st = 'Print every word in this sentence that has an even number of letters'"
   ],
   "outputs": [],
   "execution_count": 9
  },
  {
   "cell_type": "code",
   "metadata": {
    "collapsed": true,
    "ExecuteTime": {
     "end_time": "2025-04-24T02:58:44.382112Z",
     "start_time": "2025-04-24T02:58:44.378364Z"
    }
   },
   "source": [
    "#Code in this cell\n",
    "for s in st.split(' '):\n",
    "    if len(s) % 2 == 0:\n",
    "        print('\"{}\" is even!'.format(s))"
   ],
   "outputs": [
    {
     "name": "stdout",
     "output_type": "stream",
     "text": [
      "\"word\" is even!\n",
      "\"in\" is even!\n",
      "\"this\" is even!\n",
      "\"sentence\" is even!\n",
      "\"that\" is even!\n",
      "\"an\" is even!\n",
      "\"even\" is even!\n",
      "\"number\" is even!\n",
      "\"of\" is even!\n"
     ]
    }
   ],
   "execution_count": 11
  },
  {
   "cell_type": "markdown",
   "metadata": {},
   "source": [
    "____\n",
    "**Write a program that prints the integers from 1 to 100. But for multiples of three print \"Fizz\" instead of the number, and for the multiples of five print \"Buzz\". For numbers which are multiples of both three and five print \"FizzBuzz\".**"
   ]
  },
  {
   "cell_type": "code",
   "metadata": {
    "collapsed": true,
    "ExecuteTime": {
     "end_time": "2025-04-24T03:03:48.303407Z",
     "start_time": "2025-04-24T03:03:48.298268Z"
    }
   },
   "source": [
    "#Code in this cell\n",
    "for i in range(1,101):\n",
    "    if i % 3 == 0 and i % 5 == 0:\n",
    "        print('FizzBuzz for {}'.format(i))\n",
    "    elif i % 3 == 0:\n",
    "        print('Fizz for {}'.format(i))\n",
    "    elif i % 5 == 0:\n",
    "        print('Buzz for {}'.format(i))\n",
    "    else:\n",
    "        print(i)"
   ],
   "outputs": [
    {
     "name": "stdout",
     "output_type": "stream",
     "text": [
      "1\n",
      "2\n",
      "Fizz for 3\n",
      "4\n",
      "Buzz for 5\n",
      "Fizz for 6\n",
      "7\n",
      "8\n",
      "Fizz for 9\n",
      "Buzz for 10\n",
      "11\n",
      "Fizz for 12\n",
      "13\n",
      "14\n",
      "FizzBuzz for 15\n",
      "16\n",
      "17\n",
      "Fizz for 18\n",
      "19\n",
      "Buzz for 20\n",
      "Fizz for 21\n",
      "22\n",
      "23\n",
      "Fizz for 24\n",
      "Buzz for 25\n",
      "26\n",
      "Fizz for 27\n",
      "28\n",
      "29\n",
      "FizzBuzz for 30\n",
      "31\n",
      "32\n",
      "Fizz for 33\n",
      "34\n",
      "Buzz for 35\n",
      "Fizz for 36\n",
      "37\n",
      "38\n",
      "Fizz for 39\n",
      "Buzz for 40\n",
      "41\n",
      "Fizz for 42\n",
      "43\n",
      "44\n",
      "FizzBuzz for 45\n",
      "46\n",
      "47\n",
      "Fizz for 48\n",
      "49\n",
      "Buzz for 50\n",
      "Fizz for 51\n",
      "52\n",
      "53\n",
      "Fizz for 54\n",
      "Buzz for 55\n",
      "56\n",
      "Fizz for 57\n",
      "58\n",
      "59\n",
      "FizzBuzz for 60\n",
      "61\n",
      "62\n",
      "Fizz for 63\n",
      "64\n",
      "Buzz for 65\n",
      "Fizz for 66\n",
      "67\n",
      "68\n",
      "Fizz for 69\n",
      "Buzz for 70\n",
      "71\n",
      "Fizz for 72\n",
      "73\n",
      "74\n",
      "FizzBuzz for 75\n",
      "76\n",
      "77\n",
      "Fizz for 78\n",
      "79\n",
      "Buzz for 80\n",
      "Fizz for 81\n",
      "82\n",
      "83\n",
      "Fizz for 84\n",
      "Buzz for 85\n",
      "86\n",
      "Fizz for 87\n",
      "88\n",
      "89\n",
      "FizzBuzz for 90\n",
      "91\n",
      "92\n",
      "Fizz for 93\n",
      "94\n",
      "Buzz for 95\n",
      "Fizz for 96\n",
      "97\n",
      "98\n",
      "Fizz for 99\n",
      "Buzz for 100\n"
     ]
    }
   ],
   "execution_count": 14
  },
  {
   "cell_type": "markdown",
   "metadata": {},
   "source": [
    "____\n",
    "**Use List Comprehension to create a list of the first letters of every word in the string below:**"
   ]
  },
  {
   "cell_type": "code",
   "metadata": {
    "collapsed": true,
    "ExecuteTime": {
     "end_time": "2025-04-24T03:06:40.046667Z",
     "start_time": "2025-04-24T03:06:40.043561Z"
    }
   },
   "source": [
    "st = 'Create a list of the first letters of every word in this string'"
   ],
   "outputs": [],
   "execution_count": 15
  },
  {
   "cell_type": "code",
   "metadata": {
    "collapsed": true,
    "ExecuteTime": {
     "end_time": "2025-04-24T03:07:12.866473Z",
     "start_time": "2025-04-24T03:07:12.861212Z"
    }
   },
   "source": [
    "#Code in this cell\n",
    "[s[0] for s in st.split(' ')]"
   ],
   "outputs": [
    {
     "data": {
      "text/plain": [
       "['C', 'a', 'l', 'o', 't', 'f', 'l', 'o', 'e', 'w', 'i', 't', 's']"
      ]
     },
     "execution_count": 16,
     "metadata": {},
     "output_type": "execute_result"
    }
   ],
   "execution_count": 16
  },
  {
   "cell_type": "markdown",
   "metadata": {},
   "source": [
    "### Great Job!"
   ]
  }
 ],
 "metadata": {
  "kernelspec": {
   "display_name": "Python 3",
   "language": "python",
   "name": "python3"
  },
  "language_info": {
   "codemirror_mode": {
    "name": "ipython",
    "version": 3
   },
   "file_extension": ".py",
   "mimetype": "text/x-python",
   "name": "python",
   "nbconvert_exporter": "python",
   "pygments_lexer": "ipython3",
   "version": "3.6.6"
  }
 },
 "nbformat": 4,
 "nbformat_minor": 1
}
