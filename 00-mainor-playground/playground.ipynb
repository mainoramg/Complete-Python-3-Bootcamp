{
 "cells": [
  {
   "cell_type": "code",
   "id": "initial_id",
   "metadata": {
    "collapsed": true,
    "ExecuteTime": {
     "end_time": "2025-04-20T23:31:46.380885Z",
     "start_time": "2025-04-20T23:31:46.375846Z"
    }
   },
   "source": "7/4",
   "outputs": [
    {
     "data": {
      "text/plain": [
       "1.75"
      ]
     },
     "execution_count": 5,
     "metadata": {},
     "output_type": "execute_result"
    }
   ],
   "execution_count": 5
  },
  {
   "metadata": {
    "ExecuteTime": {
     "end_time": "2025-04-20T23:33:23.250064Z",
     "start_time": "2025-04-20T23:33:23.246750Z"
    }
   },
   "cell_type": "code",
   "source": "7 % 4 # mod (remainder operator)",
   "id": "f1048c75107ad79b",
   "outputs": [
    {
     "data": {
      "text/plain": [
       "3"
      ]
     },
     "execution_count": 7,
     "metadata": {},
     "output_type": "execute_result"
    }
   ],
   "execution_count": 7
  },
  {
   "metadata": {
    "ExecuteTime": {
     "end_time": "2025-04-20T23:33:45.405558Z",
     "start_time": "2025-04-20T23:33:45.401170Z"
    }
   },
   "cell_type": "code",
   "source": "2 ** 3 # power operator",
   "id": "8e92f5736ef214eb",
   "outputs": [
    {
     "data": {
      "text/plain": [
       "8"
      ]
     },
     "execution_count": 8,
     "metadata": {},
     "output_type": "execute_result"
    }
   ],
   "execution_count": 8
  },
  {
   "metadata": {
    "ExecuteTime": {
     "end_time": "2025-04-20T23:34:22.258554Z",
     "start_time": "2025-04-20T23:34:22.254201Z"
    }
   },
   "cell_type": "code",
   "source": "2 + 10 * 10 + 3",
   "id": "f382e802b98aea73",
   "outputs": [
    {
     "data": {
      "text/plain": [
       "105"
      ]
     },
     "execution_count": 9,
     "metadata": {},
     "output_type": "execute_result"
    }
   ],
   "execution_count": 9
  },
  {
   "metadata": {
    "ExecuteTime": {
     "end_time": "2025-04-20T23:34:51.240346Z",
     "start_time": "2025-04-20T23:34:51.236363Z"
    }
   },
   "cell_type": "code",
   "source": "(2 + 10) * (10 + 3)",
   "id": "beab5b06715e108b",
   "outputs": [
    {
     "data": {
      "text/plain": [
       "156"
      ]
     },
     "execution_count": 10,
     "metadata": {},
     "output_type": "execute_result"
    }
   ],
   "execution_count": 10
  },
  {
   "metadata": {
    "ExecuteTime": {
     "end_time": "2025-04-20T23:38:56.282080Z",
     "start_time": "2025-04-20T23:38:56.277388Z"
    }
   },
   "cell_type": "code",
   "source": "(25*2)+(2**4)+4+(3*(100/10))",
   "id": "dd13bba20659c834",
   "outputs": [
    {
     "data": {
      "text/plain": [
       "100.0"
      ]
     },
     "execution_count": 11,
     "metadata": {},
     "output_type": "execute_result"
    }
   ],
   "execution_count": 11
  },
  {
   "metadata": {
    "ExecuteTime": {
     "end_time": "2025-04-20T23:58:37.224401Z",
     "start_time": "2025-04-20T23:58:37.220155Z"
    }
   },
   "cell_type": "code",
   "source": "a = 5",
   "id": "6f8fab6e2a08df16",
   "outputs": [],
   "execution_count": 1
  },
  {
   "metadata": {
    "ExecuteTime": {
     "end_time": "2025-04-20T23:58:43.032722Z",
     "start_time": "2025-04-20T23:58:43.026965Z"
    }
   },
   "cell_type": "code",
   "source": "a",
   "id": "f6eeda41dc103376",
   "outputs": [
    {
     "data": {
      "text/plain": [
       "5"
      ]
     },
     "execution_count": 2,
     "metadata": {},
     "output_type": "execute_result"
    }
   ],
   "execution_count": 2
  },
  {
   "metadata": {
    "ExecuteTime": {
     "end_time": "2025-04-21T00:00:13.465117Z",
     "start_time": "2025-04-21T00:00:13.461637Z"
    }
   },
   "cell_type": "code",
   "source": "type(a)",
   "id": "b4257f98f600d56a",
   "outputs": [
    {
     "data": {
      "text/plain": [
       "int"
      ]
     },
     "execution_count": 3,
     "metadata": {},
     "output_type": "execute_result"
    }
   ],
   "execution_count": 3
  },
  {
   "metadata": {
    "ExecuteTime": {
     "end_time": "2025-04-23T02:02:32.431654Z",
     "start_time": "2025-04-23T02:02:32.425808Z"
    }
   },
   "cell_type": "code",
   "source": "type(3 + 1.5 + 4)",
   "id": "9267e8599bf76684",
   "outputs": [
    {
     "data": {
      "text/plain": [
       "float"
      ]
     },
     "execution_count": 1,
     "metadata": {},
     "output_type": "execute_result"
    }
   ],
   "execution_count": 1
  },
  {
   "metadata": {},
   "cell_type": "code",
   "outputs": [],
   "execution_count": null,
   "source": "",
   "id": "b20757af55f38e6"
  }
 ],
 "metadata": {
  "kernelspec": {
   "display_name": "Python 3",
   "language": "python",
   "name": "python3"
  },
  "language_info": {
   "codemirror_mode": {
    "name": "ipython",
    "version": 2
   },
   "file_extension": ".py",
   "mimetype": "text/x-python",
   "name": "python",
   "nbconvert_exporter": "python",
   "pygments_lexer": "ipython2",
   "version": "2.7.6"
  }
 },
 "nbformat": 4,
 "nbformat_minor": 5
}
